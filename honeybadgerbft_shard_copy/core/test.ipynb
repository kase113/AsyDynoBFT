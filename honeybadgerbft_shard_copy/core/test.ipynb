{
 "cells": [
  {
   "cell_type": "code",
   "execution_count": 1,
   "metadata": {},
   "outputs": [
    {
     "name": "stdout",
     "output_type": "stream",
     "text": [
      "LQ3RMUWEVKZ0XUT5GC2X82BHVQ187MQ56EC3MD5NSUHHU0JGJQN9660LUWR2D7OWKRNYM2IC1T9NDJC6R4BLIV0HTJ44WUICSDNIMDFKZYT8F9QTV84IYNKJ6M24HCLYAKUB833XWX6LOHZAOKFOO2NVMVH9RA68I7GA2T4B8VYMNXN70G4S08U6B8XF80BFF3ERFFXUQKV691JIF40NVBDA99W03U0VTI3AR0M42CPPGEN9\n",
      "9RXHESBOSL9YGK56NC1J7QOPRBQYP4U94TOBBDEM8R95PFESAPZCVIZHUWJO01Y0EZIPMO6J17INXJ0ZEC4C7QLEMZ8P1ES2AYNG2H3UYW9PEKN32IXQ55JMHPZRIQIN7H1OIFO3UT6BUKQBG6NL371R8NLK0NTEMDWZ6XX6P9LEXHY5P3BW2WXRLSW01FLN0QHWEPZ3J930ID69U6TMXUE5Y6YB6I6H5USJZBU09C9K54B2\n",
      "NWCILHYPS8TWJSUBKICXQDECLC8OG0I9CIFXOH4Z2F3Z79AIAH0DZHGRUDU035RN5KB1OD1J6QWDWV1QSW3G4HK79AMGNI0MPI5Q85SN4J5Q32ZVCNVOE8W0YDHU9Z1CIM3HMNTAYG45SLT8XTT8YUYBP0802JKYPDC7QE73M7A2EBSIEJ418YJAAZ2VIQD71846F3FYIWIH6L139NGTTE25DKZJWE6T5K2XUISPWWRFGEBQ\n",
      "HIP1W7NP1QGQCFMVIFX7F36G5FYSLXTR1PURGBYAY2LYSRJUQUEM1B13CPFOWX6VOXX57QQWB8C9ER2KSZ3R87DPGSACEWV2RUCIDJ67JK7JWVCLAZ45MD1S54C9JE5UREHQ9X1NB0ZS70W5VKVS2FTWIEY44439RHTPJNFJDJOHQGY4NE6FW3BEM0W247YX8CCTHVOR5WONXGXYI0DRT3ABN0JA07DK0ZSUBM6XPMPA8R82\n",
      "91Z1JAFQ6PB2TZINREQ5TAFVFSQIQVRMITQPRUAKMK144HGESRCSC9F67DPFOIFA5OB720AUVW8D2DUG19FL5FNEOG4BY5HLXBFZONKK3VUTU6SY8S1BXDERISHD2L32GXP4AF9JBGDJFLJS4UMCR2CH2LWG8AG4ZONFVDZA8D5U1JUVNPLSBU49SG8VNO0XJFTKVYY8K1B10L5ONBWQ8PU1NOU9KGPDIF25FUGQWKIBFHBM\n",
      "T2VU5PC8V3CJCMMH9VQC49AZLTYWHZ5D3YTV5SR0U9FE2HV4EU8YGV56Z5ND5JLDXCWZBIPV1ID34WGKT4LKY7J9T4O3ZGZSC8QM85SRR7VOXB0JZBGKJWHG37AZHONHGDFGHAOYSB3M2LR5ORVOZJEA80ANCOAIVX6HOSW5BXYMV0F25B9HWOW9DLSYGSRSKNEH00FCDK9O73BOG3RCUM0HFWVS8FQIXSVOOYIHLWCNRU3L\n"
     ]
    }
   ],
   "source": [
    "tx = [\n",
    "    \"LQ3RMUWEVKZ0XUT5GC2X82BHVQ187MQ56EC3MD5NSUHHU0JGJQN9660LUWR2D7OWKRNYM2IC1T9NDJC6R4BLIV0HTJ44WUICSDNIMDFKZYT8F9QTV84IYNKJ6M24HCLYAKUB833XWX6LOHZAOKFOO2NVMVH9RA68I7GA2T4B8VYMNXN70G4S08U6B8XF80BFF3ERFFXUQKV691JIF40NVBDA99W03U0VTI3AR0M42CPPGEN9\",\n",
    "    \"9RXHESBOSL9YGK56NC1J7QOPRBQYP4U94TOBBDEM8R95PFESAPZCVIZHUWJO01Y0EZIPMO6J17INXJ0ZEC4C7QLEMZ8P1ES2AYNG2H3UYW9PEKN32IXQ55JMHPZRIQIN7H1OIFO3UT6BUKQBG6NL371R8NLK0NTEMDWZ6XX6P9LEXHY5P3BW2WXRLSW01FLN0QHWEPZ3J930ID69U6TMXUE5Y6YB6I6H5USJZBU09C9K54B2\",\n",
    "    \"NWCILHYPS8TWJSUBKICXQDECLC8OG0I9CIFXOH4Z2F3Z79AIAH0DZHGRUDU035RN5KB1OD1J6QWDWV1QSW3G4HK79AMGNI0MPI5Q85SN4J5Q32ZVCNVOE8W0YDHU9Z1CIM3HMNTAYG45SLT8XTT8YUYBP0802JKYPDC7QE73M7A2EBSIEJ418YJAAZ2VIQD71846F3FYIWIH6L139NGTTE25DKZJWE6T5K2XUISPWWRFGEBQ\",\n",
    "    \"HIP1W7NP1QGQCFMVIFX7F36G5FYSLXTR1PURGBYAY2LYSRJUQUEM1B13CPFOWX6VOXX57QQWB8C9ER2KSZ3R87DPGSACEWV2RUCIDJ67JK7JWVCLAZ45MD1S54C9JE5UREHQ9X1NB0ZS70W5VKVS2FTWIEY44439RHTPJNFJDJOHQGY4NE6FW3BEM0W247YX8CCTHVOR5WONXGXYI0DRT3ABN0JA07DK0ZSUBM6XPMPA8R82\",\n",
    "    \"91Z1JAFQ6PB2TZINREQ5TAFVFSQIQVRMITQPRUAKMK144HGESRCSC9F67DPFOIFA5OB720AUVW8D2DUG19FL5FNEOG4BY5HLXBFZONKK3VUTU6SY8S1BXDERISHD2L32GXP4AF9JBGDJFLJS4UMCR2CH2LWG8AG4ZONFVDZA8D5U1JUVNPLSBU49SG8VNO0XJFTKVYY8K1B10L5ONBWQ8PU1NOU9KGPDIF25FUGQWKIBFHBM\",\n",
    "    \"T2VU5PC8V3CJCMMH9VQC49AZLTYWHZ5D3YTV5SR0U9FE2HV4EU8YGV56Z5ND5JLDXCWZBIPV1ID34WGKT4LKY7J9T4O3ZGZSC8QM85SRR7VOXB0JZBGKJWHG37AZHONHGDFGHAOYSB3M2LR5ORVOZJEA80ANCOAIVX6HOSW5BXYMV0F25B9HWOW9DLSYGSRSKNEH00FCDK9O73BOG3RCUM0HFWVS8FQIXSVOOYIHLWCNRU3L\"\n",
    "]\n",
    "for batch in tx:\n",
    "    print(batch)"
   ]
  },
  {
   "cell_type": "code",
   "execution_count": 8,
   "metadata": {},
   "outputs": [
    {
     "name": "stdout",
     "output_type": "stream",
     "text": [
      "[['i-wz9ed6s5ux1io49bi6lg' '120.77.29.111' '172.26.234.3']]\n"
     ]
    }
   ],
   "source": [
    "nodes = '''\n",
    "i-0a9901411664ebac8\t18.144.34.8\t172.31.20.42\n",
    "i-04484772ad308dd24\t54.168.0.56\t172.31.40.192\n",
    "i-0fd70577d2479798b\t54.252.246.129\t172.31.33.160\n",
    "i-0e3d3799d1ba25db4\t18.231.163.226\t172.31.41.184\n",
    "'''\n",
    "\n",
    "import pandas as pd\n",
    "\n",
    "file_path = \"ecs_instance_list_cn-shenzhen_2022-10-25.csv\"\n",
    "content = pd.read_csv(file_path)\n",
    "data = pd.read_csv(file_path, encoding='utf-8')\n",
    "# print(data)\n",
    "raw_data = data.to_numpy()\n",
    "print(raw_data)"
   ]
  },
  {
   "cell_type": "code",
   "execution_count": 9,
   "metadata": {},
   "outputs": [
    {
     "name": "stdout",
     "output_type": "stream",
     "text": [
      "[6, 6, 6, 6, 6, 6, 6, 6, 6, 6]\n",
      "4\n",
      "# public IPs\n",
      "pubIPsVar=([0]='18.144.34.8'\n",
      "[1]='54.168.0.56'\n",
      "[2]='54.252.246.129'\n",
      "[3]='18.231.163.226')\n",
      "# private IPs\n",
      "priIPsVar=([0]='172.31.20.42'\n",
      "[1]='172.31.40.192'\n",
      "[2]='172.31.33.160'\n",
      "[3]='172.31.41.184')\n"
     ]
    }
   ],
   "source": [
    "nodes = '''\n",
    "i-0a9901411664ebac8\t18.144.34.8\t172.31.20.42\n",
    "i-04484772ad308dd24\t54.168.0.56\t172.31.40.192\n",
    "i-0fd70577d2479798b\t54.252.246.129\t172.31.33.160\n",
    "i-0e3d3799d1ba25db4\t18.231.163.226\t172.31.41.184\n",
    "'''\n",
    "\n",
    "num_regions = 10\n",
    "N = 60\n",
    "\n",
    "n = int(N / num_regions)\n",
    "r = N - num_regions * n\n",
    "\n",
    "each_region_n = []\n",
    "for i in range(num_regions):\n",
    "    if r > 0:\n",
    "        each_region_n.append(n + 1)\n",
    "        r -= 1\n",
    "    else:\n",
    "        each_region_n.append(n)\n",
    "print(each_region_n)\n",
    "\n",
    "public_ips = []\n",
    "private_ips = []\n",
    "\n",
    "for line in nodes.splitlines():\n",
    "    try:\n",
    "        _, public, private = line.split()\n",
    "        public_ips.append(public)\n",
    "        private_ips.append(private)\n",
    "    except:\n",
    "        pass\n",
    "\n",
    "print(len(public_ips))\n",
    "\n",
    "print(\"# public IPs\")\n",
    "print(\"pubIPsVar=(\", end='')\n",
    "for i in range(len(public_ips) - 1):\n",
    "    print(\"[%d]=\\'%s\\'\" % (i, public_ips[i]))\n",
    "i = len(public_ips) - 1\n",
    "print(\"[%d]=\\'%s\\')\" % (i, public_ips[i]))\n",
    "\n",
    "print(\"# private IPs\")\n",
    "print(\"priIPsVar=(\", end='')\n",
    "for i in range(len(private_ips) - 1):\n",
    "    print(\"[%d]=\\'%s\\'\" % (i, private_ips[i]))\n",
    "i = len(private_ips) - 1\n",
    "print(\"[%d]=\\'%s\\')\" % (i, private_ips[i]))\n"
   ]
  }
 ],
 "metadata": {
  "kernelspec": {
   "display_name": "Python 3.7.13 ('hbb')",
   "language": "python",
   "name": "python3"
  },
  "language_info": {
   "codemirror_mode": {
    "name": "ipython",
    "version": 3
   },
   "file_extension": ".py",
   "mimetype": "text/x-python",
   "name": "python",
   "nbconvert_exporter": "python",
   "pygments_lexer": "ipython3",
   "version": "3.7.13"
  },
  "orig_nbformat": 4,
  "vscode": {
   "interpreter": {
    "hash": "7f5c99d094b399fa9e65cc4107643c6d5293cb8e1c21c8f7db515a0780c667bb"
   }
  }
 },
 "nbformat": 4,
 "nbformat_minor": 2
}
