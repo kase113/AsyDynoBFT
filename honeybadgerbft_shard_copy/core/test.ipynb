{
 "cells": [
  {
   "cell_type": "code",
   "execution_count": 3,
   "metadata": {},
   "outputs": [
    {
     "name": "stdout",
     "output_type": "stream",
     "text": [
      "[None, None, None, None, <Queue at 0x7f5c031b0d00>, <Queue at 0x7f5c031b0fa0>, <Queue at 0x7f5c0315e6e0>, <Queue at 0x7f5c0315e9f0>]\n"
     ]
    }
   ],
   "source": [
    "from gevent.queue import Queue\n",
    "from gevent import queue\n",
    "N = 8\n",
    "shard = 4\n",
    "coin_recvs = [None] * N\n",
    "for j in range(4, 8):\n",
    "    coin_recvs[j] = Queue()\n",
    "\n",
    "print(coin_recvs)"
   ]
  },
  {
   "cell_type": "code",
   "execution_count": 11,
   "metadata": {},
   "outputs": [
    {
     "name": "stdout",
     "output_type": "stream",
     "text": [
      "4444 0\n",
      "1111 0\n",
      "5555 1\n",
      "2222 1\n",
      "3333 2\n",
      "{'1111': 1666060974.4480414, '2222': 1666060974.448043, '3333': 1666060974.4480438, '4444': 1666060974.4480448, '5555': 1666060974.4480455}\n"
     ]
    }
   ],
   "source": [
    "from collections import defaultdict\n",
    "import time\n",
    "\n",
    "\n",
    "tx_list = ['1111', '2222', '3333','4444', '5555']\n",
    "ac = 5\n",
    "MR = 3\n",
    "N = 8\n",
    "ac_tx = dict()\n",
    "actx = defaultdict(set)\n",
    "# tx_time = defaultdict(set)\n",
    "# tx_time = set()\n",
    "tx_time = {}\n",
    "# ac_tx = {None} * N\n",
    "for i in range(ac):\n",
    "    target = int(i%MR)\n",
    "    ac_tx[target]=(tx_list[i])\n",
    "    actx[target].add(tx_list[i])\n",
    "\n",
    "for j in range(MR):\n",
    "    # print(actx[j])\n",
    "    for batch in actx[j]:\n",
    "        print (batch, j)\n",
    "\n",
    "for i in range(ac):\n",
    "    if (tx_list[i] in tx_time.keys()) == False:\n",
    "        tx_time[tx_list[i]] = time.time()\n",
    "print(tx_time)\n",
    "# print(tx_list[0] in tx_time.keys())\n"
   ]
  },
  {
   "cell_type": "code",
   "execution_count": 4,
   "metadata": {},
   "outputs": [
    {
     "name": "stdout",
     "output_type": "stream",
     "text": [
      "{0: '0', 1: '1', 2: '2', 3: '3'}\n"
     ]
    }
   ],
   "source": [
    "ac = dict()\n",
    "for i in range(4):\n",
    "    ac[i] = str(i)\n",
    "print(ac)"
   ]
  },
  {
   "cell_type": "code",
   "execution_count": 3,
   "metadata": {},
   "outputs": [
    {
     "name": "stdout",
     "output_type": "stream",
     "text": [
      "0\n",
      "1\n",
      "2\n",
      "4\n",
      "5\n",
      "6\n",
      "7\n"
     ]
    }
   ],
   "source": [
    "for i in range(0,8):\n",
    "    if i == 3:\n",
    "        continue\n",
    "    else:\n",
    "        print(i)"
   ]
  }
 ],
 "metadata": {
  "kernelspec": {
   "display_name": "Python 3.7.13 ('hbb')",
   "language": "python",
   "name": "python3"
  },
  "language_info": {
   "codemirror_mode": {
    "name": "ipython",
    "version": 3
   },
   "file_extension": ".py",
   "mimetype": "text/x-python",
   "name": "python",
   "nbconvert_exporter": "python",
   "pygments_lexer": "ipython3",
   "version": "3.7.13"
  },
  "orig_nbformat": 4,
  "vscode": {
   "interpreter": {
    "hash": "7f5c99d094b399fa9e65cc4107643c6d5293cb8e1c21c8f7db515a0780c667bb"
   }
  }
 },
 "nbformat": 4,
 "nbformat_minor": 2
}
